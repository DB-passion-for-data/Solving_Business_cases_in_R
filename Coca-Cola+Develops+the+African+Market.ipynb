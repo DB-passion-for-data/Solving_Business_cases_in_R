{
 "cells": [
  {
   "cell_type": "markdown",
   "metadata": {},
   "source": [
    "# Coca-Cola Develops the African Market"
   ]
  },
  {
   "cell_type": "markdown",
   "metadata": {},
   "source": [
    "<img src = \"https://cdn.dribbble.com/users/3511384/screenshots/6767425/coca-cola-final-800-600.gif\"></img>"
   ]
  },
  {
   "cell_type": "markdown",
   "metadata": {},
   "source": [
    "**The Coca-Cola Company is the number-one seller of beverages in the world with more\n",
    "than 500 sparkling and still brands that include 17 billion-dollar brands such as Coca-\n",
    "Cola, Diet Coke, Fanta, Sprite, Coca-Cola Zero, Powerade, and Minute Maid. Every day\n",
    "an average of more than 1.9 billion servings of Coca-Cola’s beverages are consumed\n",
    "worldwide. Such drinks are delivered via the world’s largest beverage distribution system\n",
    "to more than 200 countries around the globe. Including its bottling partners, the Coca-\n",
    "Cola Company ranks among the world’s top 10 private employers with more than\n",
    "700,000 employees.\n",
    "For a variety of reasons, sales in developed countries have been flat or slow growing. For\n",
    "example, in 1989, North Americans bought 2.6 billion dollars worth of Coke; but 20 years later\n",
    "in 2009, the figure had only grown to 2.9 billion dollars. Looking for attractive newer, growing\n",
    "markets, Coca-Cola turned its attention to Africa. According to forecasts by the United\n",
    "Nations, Africa’s population will more than double by the year 2050 to 2.5 billion\n",
    "people; and after years of poverty, Africa’s emerging middle class is now becoming a\n",
    "driver of growth with an expanding pool of consumers with increasing disposable\n",
    "income. Such factors along with a positive trade balance are attracting companies to\n",
    "Africa as a place in which to invest.\n",
    "While Coke has been in Africa since 1929, more recently it has made substantial efforts\n",
    "to significantly increase sales there. At present, Coke is Africa’s largest private employer\n",
    "with 65,000 employees and 160 plants. Building on techniques learned in Latin\n",
    "America, Coke is trying to earn new customers in Africa by winning over small stores.\n",
    "Moving throughout villages and towns, Coca-Cola is distributing Coke signage and drink\n",
    "coolers to shop after shop. In an effort to distribute their products in areas with poor\n",
    "roads and to reach remote areas, Coca-Cola is establishing manual distribution centers\n",
    "such as were used in Vietnam and Thailand. Such centers currently employ more than\n",
    "12,000 Africans and generate 500 million dollars in annual revenue. In addition, Coca-Cola\n",
    "plans to invest 5 billion dollars more in Africa for long-term sustainable growth, increasing its\n",
    "total investment there to 17 billion dollars over the decade ending in 2020. Such infusion of\n",
    "revenue is intended to fund new manufacturing lines, cooling and distribution\n",
    "equipment, more job opportunities, and sustainability initiatives focused on safe water\n",
    "access.**"
   ]
  },
  {
   "cell_type": "markdown",
   "metadata": {},
   "source": [
    "### Discussion"
   ]
  },
  {
   "cell_type": "markdown",
   "metadata": {},
   "source": [
    "- In several countries of Africa, a common size for a Coke can is 340 milliliters (mL).\n",
    "Because of the variability of bottling machinery, it is likely that every 340-mL bottle of\n",
    "Coca-Cola does not contain exactly 340 mL of fluid. Some bottles may contain more fluid\n",
    "and others less. Because of this variation, a production engineer wants to test some of\n",
    "the bottles from a production run to determine how close they are to the 340-mL\n",
    "specification. Suppose the following data are the fill measurements from a random\n",
    "sample of 50 cans.\n",
    "Consider measures of central tendency, variability, and skewness. Based on this analysis,how is the bottling process working on this production run? Do you have any insight or\n",
    "advice for the production manager from studying these data?"
   ]
  },
  {
   "cell_type": "raw",
   "metadata": {},
   "source": [
    "340.1 339.9 340.2 340.2 340.0\n",
    "340.1 340.9 340.1 340.3 340.5\n",
    "339.7 340.4 340.3 339.8 339.3\n",
    "340.1 339.4 339.6 339.2 340.2\n",
    "340.4 339.8 339.9 340.2 339.6\n",
    "339.6 340.4 340.4 340.6 340.6\n",
    "340.1 340.8 339.9 340.0 339.9\n",
    "340.3 340.5 339.9 341.1 339.7\n",
    "340.2 340.5 340.2 339.7 340.9\n",
    "340.2 339.5 340.6 340.3 339.8"
   ]
  },
  {
   "cell_type": "markdown",
   "metadata": {},
   "source": [
    "- Suppose that at another plant Coca-Cola is filling bottles with 20 ounces of fluid. A lab\n",
    "randomly samples 150 bottles and tests the bottles for fill volume. Write a brief report to\n",
    "supervisors summarizing what this output is saying about the process."
   ]
  },
  {
   "cell_type": "raw",
   "metadata": {},
   "source": [
    "Bottle Fills\n",
    "Mean - 20.00817\n",
    "Standard error - 0.008278\n",
    "Median - 19.99697\n",
    "Mode - #N/A\n",
    "Standard deviation - 0.101388\n",
    "Sample variance - 0.010279\n",
    "Kurtosis -  −0.11422\n",
    "Skewness -  0.080425\n",
    "Range -  0.557666\n",
    "Minimum -  19.70555\n",
    "Maximum - 20.26322\n",
    "Sum -  3001.225\n",
    "Count - 150"
   ]
  },
  {
   "cell_type": "markdown",
   "metadata": {},
   "source": [
    "**Sources** : The Coca-Cola Company website at www.coca-colacompany.com\n",
    "Pascal Fletcher,\n",
    "<a herf =\"https://www.reuters.com/article/us-africa-investment-idUSBRE9490DV20130510\">“Africa’s Emerging Middle Class Drives Growth and Democracy,” Reuters, May 10, 2013<a>\n"
   ]
  },
  {
   "cell_type": "markdown",
   "metadata": {},
   "source": [
    "----------------------------------------------------------------------------------------------------------------"
   ]
  },
  {
   "cell_type": "markdown",
   "metadata": {},
   "source": [
    "## Solution - 1"
   ]
  },
  {
   "cell_type": "code",
   "execution_count": 1,
   "metadata": {
    "collapsed": false
   },
   "outputs": [
    {
     "data": {
      "text/html": [
       "<table>\n",
       "<thead><tr><th scope=col>mL</th></tr></thead>\n",
       "<tbody>\n",
       "\t<tr><td>340.1</td></tr>\n",
       "\t<tr><td>339.9</td></tr>\n",
       "\t<tr><td>340.2</td></tr>\n",
       "\t<tr><td>340.2</td></tr>\n",
       "\t<tr><td>340.0</td></tr>\n",
       "\t<tr><td>340.1</td></tr>\n",
       "</tbody>\n",
       "</table>\n"
      ],
      "text/latex": [
       "\\begin{tabular}{r|l}\n",
       " mL\\\\\n",
       "\\hline\n",
       "\t 340.1\\\\\n",
       "\t 339.9\\\\\n",
       "\t 340.2\\\\\n",
       "\t 340.2\\\\\n",
       "\t 340.0\\\\\n",
       "\t 340.1\\\\\n",
       "\\end{tabular}\n"
      ],
      "text/markdown": [
       "\n",
       "mL | \n",
       "|---|---|---|---|---|---|\n",
       "| 340.1 | \n",
       "| 339.9 | \n",
       "| 340.2 | \n",
       "| 340.2 | \n",
       "| 340.0 | \n",
       "| 340.1 | \n",
       "\n",
       "\n"
      ],
      "text/plain": [
       "  mL   \n",
       "1 340.1\n",
       "2 339.9\n",
       "3 340.2\n",
       "4 340.2\n",
       "5 340.0\n",
       "6 340.1"
      ]
     },
     "metadata": {},
     "output_type": "display_data"
    }
   ],
   "source": [
    "# first making a dataframe of given data\n",
    "df <- data.frame(mL = c(340.1,339.9,340.2,340.2,340.0,340.1,340.9,340.1,340.3,340.5,339.7,340.4,340.3,339.8,339.3,340.1,339.4,339.6,339.2,340.2,\n",
    "340.4,339.8,339.9,340.2,339.6,\n",
    "339.6,340.4,340.4,340.6,340.6,\n",
    "340.1,340.8,339.9,340.0,339.9,\n",
    "340.3,340.5,339.9,341.1,339.7,\n",
    "340.2,340.5,340.2,339.7,340.9,\n",
    "340.2,339.5,340.6,340.3,339.8))\n",
    "\n",
    "# printing the first 5 rows\n",
    "head(df)"
   ]
  },
  {
   "cell_type": "code",
   "execution_count": 2,
   "metadata": {
    "collapsed": false
   },
   "outputs": [
    {
     "data": {
      "text/plain": [
       "       mL       \n",
       " Min.   :339.2  \n",
       " 1st Qu.:339.8  \n",
       " Median :340.1  \n",
       " Mean   :340.1  \n",
       " 3rd Qu.:340.4  \n",
       " Max.   :341.1  "
      ]
     },
     "metadata": {},
     "output_type": "display_data"
    }
   ],
   "source": [
    "# summarizing the data\n",
    "summary(df)"
   ]
  },
  {
   "cell_type": "code",
   "execution_count": 3,
   "metadata": {
    "collapsed": false
   },
   "outputs": [
    {
     "data": {
      "text/html": [
       "0.418788339700843"
      ],
      "text/latex": [
       "0.418788339700843"
      ],
      "text/markdown": [
       "0.418788339700843"
      ],
      "text/plain": [
       "[1] 0.4187883"
      ]
     },
     "metadata": {},
     "output_type": "display_data"
    }
   ],
   "source": [
    "# finding standard deviation.\n",
    "sd(df$mL)"
   ]
  },
  {
   "cell_type": "code",
   "execution_count": 4,
   "metadata": {
    "collapsed": false
   },
   "outputs": [
    {
     "data": {
      "image/png": "[encoded data removed]",
      "text/plain": [
       "Plot with title “Distribution of Quantity(in mL)”"
      ]
     },
     "metadata": {},
     "output_type": "display_data"
    }
   ],
   "source": [
    "hist(df$mL,\n",
    "     breaks = 10,\n",
    "     xlab = \"Quantity(in ml)\",\n",
    "     main = \"Distribution of Quantity(in mL)\",\n",
    "     col = \"red\",\n",
    "     border = \"white\")"
   ]
  },
  {
   "cell_type": "markdown",
   "metadata": {},
   "source": [
    "\n",
    "**-  On an average 340.1 ml of fluid is filled in bottles , with a standard deviation of 0.419 ml.The median is also 340.1 ml with range of 339.2 ml to 341.1 ml.\n",
    " The data follows a normal distribution. It means that approx. 95 percent of data lies between 339.6 ml to 340.5 ml.\n",
    " This suggests that only a slight proportion of fluctuation is seen in Quantities of fluid in bottels. **\n",
    "\n",
    "\n",
    "**- Bottling process is going smooth , because such meagre fluctuations can be seen due to some machine fault or handling factors. This can be proved by the coefficent of variation which is , 0.122. It shows the extent of variablility to the mean , here it is 0.122 , which is good and shows that our production is meeting the target.\n",
    "**\n",
    "\n",
    "**- I will tell the production manager that we have seen small amount of fluctuations in quantity , that is there are times when bottles are filling up 0.41 ml less or more. I will also tell him that the company's target of filling bottles to 340.1 ml is being fulfilled. There's no problem with the production, as most of the bottles are filling upto 340.1 ml. Around 75 percent of bottles have quantity of 340.4 ml.**"
   ]
  },
  {
   "cell_type": "markdown",
   "metadata": {},
   "source": [
    "-------------------------------------------------------------------------------------------------------------------"
   ]
  },
  {
   "cell_type": "markdown",
   "metadata": {},
   "source": [
    "# Solution - 2 "
   ]
  },
  {
   "cell_type": "raw",
   "metadata": {
    "deletable": true,
    "editable": true
   },
   "source": [
    "Bottle Fills\n",
    "\n",
    "Mean - 20.00817\n",
    "Standard error - 0.008278\n",
    "Median - 19.99697\n",
    "Mode - #N/A\n",
    "Standard deviation - 0.101388\n",
    "Sample variance - 0.010279\n",
    "Kurtosis -  −0.11422\n",
    "Skewness -  0.080425\n",
    "Range -  0.557666\n",
    "Minimum -  19.70555\n",
    "Maximum - 20.26322\n",
    "Sum -  3001.225\n",
    "Count - 150"
   ]
  },
  {
   "cell_type": "markdown",
   "metadata": {},
   "source": [
    "**We can infer the following from the data:**\n",
    "\n",
    "**On an average 20 ounces of liquid is filled in the bottles at the plant , with standard deviation of 0.101 ounces. The data account for 150 bottels. There are some discrepancies in filling the quantity because of some machine failure or handling error. Though the mean is 20 ounces , mostly bottles are filled with 19.9967 ounces.\n",
    "The data follows A bit of skewed distribution, the data is more skewed more to left. That means most of the data lies less than 20 ounces. Following chebyshev's theorem, 90 percent of bottels are filled between 19.6876 ounces  and 20.3288 ounces. The target of filling bottles with 20 ounces is fulfilled. The coefficient of variation is 0.51,  it infers that production is ok, but the variation from mean is of 0.5 ounces and so the machines need to be checked, because in future it may lead to more problems.**"
   ]
  }
 ],
 "metadata": {
  "kernelspec": {
   "display_name": "R",
   "language": "R",
   "name": "ir"
  },
  "language_info": {
   "codemirror_mode": "r",
   "file_extension": ".r",
   "mimetype": "text/x-r-source",
   "name": "R",
   "pygments_lexer": "r",
   "version": "3.3.3"
  }
 },
 "nbformat": 4,
 "nbformat_minor": 2
}
